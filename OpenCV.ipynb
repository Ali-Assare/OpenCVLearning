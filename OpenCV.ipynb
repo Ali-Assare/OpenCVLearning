{
 "cells": [
  {
   "cell_type": "code",
   "execution_count": 1,
   "metadata": {},
   "outputs": [],
   "source": [
    "import cv2 as cv\n",
    "import numpy as  np\n",
    "import matplotlib.pyplot as plt"
   ]
  },
  {
   "cell_type": "code",
   "execution_count": 2,
   "metadata": {},
   "outputs": [
    {
     "name": "stdout",
     "output_type": "stream",
     "text": [
      "4.4.0\n"
     ]
    }
   ],
   "source": [
    "print(cv.__version__)"
   ]
  },
  {
   "cell_type": "markdown",
   "metadata": {},
   "source": [
    "# Intro"
   ]
  },
  {
   "cell_type": "markdown",
   "metadata": {},
   "source": [
    "* read images"
   ]
  },
  {
   "cell_type": "code",
   "execution_count": 3,
   "metadata": {},
   "outputs": [],
   "source": [
    "img = cv.imread('files/cat.jpg')\n",
    "cv.imshow('Original', img)\n",
    "cv.waitKey(0)\n",
    "cv.destroyAllWindows()"
   ]
  },
  {
   "cell_type": "markdown",
   "metadata": {},
   "source": [
    "* create a black image"
   ]
  },
  {
   "cell_type": "code",
   "execution_count": null,
   "metadata": {},
   "outputs": [],
   "source": [
    "p = np.zeros((640,640))\n",
    "# img = cv.imread(p)\n",
    "cv.imshow('test', p)\n",
    "cv.waitKey(0)\n",
    "cv.destroyAllWindows()"
   ]
  },
  {
   "cell_type": "markdown",
   "metadata": {},
   "source": [
    "* write images"
   ]
  },
  {
   "cell_type": "code",
   "execution_count": null,
   "metadata": {},
   "outputs": [],
   "source": [
    "img = cv.imread('files/cat.jpg')\n",
    "cv.imwrite('mytest.png', img)"
   ]
  },
  {
   "cell_type": "markdown",
   "metadata": {},
   "source": [
    "# Drawing"
   ]
  },
  {
   "cell_type": "code",
   "execution_count": null,
   "metadata": {},
   "outputs": [],
   "source": [
    "p = np.zeros((500,500,3), dtype='uint8')\n",
    "\n",
    "cv.line(p, (190,50), (300, 120), (100, 200, 150), 5)\n",
    "\n",
    "cv.rectangle(p, (20, 50), (100, 100), (150,150,150), 3, lineType= cv.LINE_AA, shift=0)\n",
    "\n",
    "cv.circle(p, (150, 80), 30, (200,40, 150), 2)\n",
    "\n",
    "cv.ellipse(p, (150, 150), (50,20), 0, 0,360, (200,100,0), 2)\n",
    "\n",
    "cv.putText(p, \"Hello\", (320, 100), cv.FONT_HERSHEY_DUPLEX, 2, (255,190,150), 3)\n",
    "\n",
    "pts = np.array([[10,5],[20,30],[70,20],[50,10]], np.int32)\n",
    "pts = pts.reshape((-1,1,2))\n",
    "cv.polylines(p,[pts], True, (0,255,255))\n",
    "\n",
    "cv.imshow('test', p)\n",
    "cv.waitKey(0)\n",
    "cv.destroyAllWindows()"
   ]
  },
  {
   "cell_type": "markdown",
   "metadata": {},
   "source": [
    "# Image Processing"
   ]
  },
  {
   "cell_type": "markdown",
   "metadata": {},
   "source": [
    "* Scaling"
   ]
  },
  {
   "cell_type": "code",
   "execution_count": null,
   "metadata": {},
   "outputs": [],
   "source": [
    "img = cv.imread('files/cat.jpg')\n",
    "\n",
    "res = cv.resize(img, None, fx=0.2, fy=0.2, interpolation = cv.INTER_CUBIC)\n",
    "\n",
    "# *** OR ***\n",
    "# height, width = img.shape[:2]\n",
    "# res = cv.resize(img,(2*width, 2*height), interpolation = cv.INTER_CUBIC)\n",
    "\n",
    "cv.imshow('scaled', res)\n",
    "cv.waitKey(0)\n",
    "cv.destroyAllWindows()"
   ]
  },
  {
   "cell_type": "markdown",
   "metadata": {},
   "source": [
    "* translation"
   ]
  },
  {
   "cell_type": "code",
   "execution_count": null,
   "metadata": {},
   "outputs": [],
   "source": [
    "img = cv.imread('files/cat.jpg')\n",
    "rows = img.shape[0]\n",
    "cols = img.shape[1]\n",
    "\n",
    "M = np.float32([[1,0,50],[0,1,100]])\n",
    "\n",
    "shifted_img = cv.warpAffine(img, M, (cols, rows))\n",
    "\n",
    "cv.imshow('shifted', shifted_img)\n",
    "cv.waitKey(0)\n",
    "cv.destroyAllWindows()"
   ]
  },
  {
   "cell_type": "markdown",
   "metadata": {},
   "source": [
    "* Affine Transformation"
   ]
  },
  {
   "cell_type": "code",
   "execution_count": null,
   "metadata": {},
   "outputs": [],
   "source": [
    "img = cv.imread('files/cat.jpg')\n",
    "rows = img.shape[0]\n",
    "cols = img.shape[1]\n",
    "\n",
    "pts1 = np.float32([[50,50],[200,50],[50,200]])\n",
    "pts2 = np.float32([[10,100],[200,50],[100,250]])\n",
    "\n",
    "M = cv.getAffineTransform(pts1, pts2)\n",
    "\n",
    "shifted_img = cv.warpAffine(img, M, (cols, rows))\n",
    "\n",
    "cv.imshow('shift', shifted_img)\n",
    "cv.waitKey(0)\n",
    "cv.destroyAllWindows()"
   ]
  },
  {
   "cell_type": "markdown",
   "metadata": {},
   "source": [
    "* Rotation"
   ]
  },
  {
   "cell_type": "code",
   "execution_count": null,
   "metadata": {},
   "outputs": [],
   "source": [
    "img = cv.imread('files/cat.jpg')\n",
    "rows = img.shape[0]\n",
    "cols = img.shape[1]\n",
    "\n",
    "center = (rows/2, cols/2)\n",
    "angle = 90\n",
    "M = cv.getRotationMatrix2D(center, angle, 1)\n",
    "rotated_img = cv.warpAffine(img, M, (cols, rows))\n",
    "\n",
    "cv.imshow('rotated', rotated_img)\n",
    "cv.waitKey(0)\n",
    "cv.destroyAllWindows()"
   ]
  },
  {
   "cell_type": "markdown",
   "metadata": {},
   "source": [
    "* Perspective Transformation"
   ]
  },
  {
   "cell_type": "code",
   "execution_count": null,
   "metadata": {},
   "outputs": [],
   "source": [
    "img = cv.imread('files/Perspective.jpg')\n",
    "rows = img.shape[0]\n",
    "cols = img.shape[1]\n",
    "\n",
    "pts1 = np.float32([[32, 7], [140, 9], [3, 157], [145, 175]])\n",
    "pts2 = np.float32([[5,15], [157, 15], [5, 150], [157, 150]])\n",
    "\n",
    "M = cv.getPerspectiveTransform(pts1, pts2)\n",
    "\n",
    "changed_img = cv.warpPerspective(img, M, (cols, rows))\n",
    "\n",
    "plt.subplot(121),plt.imshow(img),plt.title('Input')\n",
    "plt.subplot(122),plt.imshow(changed_img),plt.title('Output')\n",
    "plt.show()\n",
    "\n",
    "# cv.imshow('changed', changed_img)\n",
    "# cv.waitKey(0)\n",
    "# cv.destroyAllWindows()"
   ]
  },
  {
   "cell_type": "markdown",
   "metadata": {},
   "source": [
    "* Image Thresholding"
   ]
  },
  {
   "cell_type": "code",
   "execution_count": null,
   "metadata": {},
   "outputs": [],
   "source": [
    "img = cv.imread('files/rainbow.jpg', 0)\n",
    "\n",
    "threshold_value = 170\n",
    "t_value, binary_img = cv.threshold(img, threshold_value, 255, type=cv.THRESH_BINARY)\n",
    "\n",
    "# cv.imshow('Th', binary_img)\n",
    "# cv.waitKey(0)\n",
    "# cv.destroyAllWindows()\n",
    "\n",
    "plt.subplot(1,2,1), plt.imshow(img, cmap='gray'), plt.title('Input')\n",
    "plt.subplot(1,2,2), plt.imshow(binary_img, cmap='gray'), plt.title('Output')\n",
    "plt.show()"
   ]
  },
  {
   "cell_type": "markdown",
   "metadata": {},
   "source": [
    "# Image Filtering"
   ]
  },
  {
   "cell_type": "markdown",
   "metadata": {},
   "source": [
    "* Gaussian Blur\n",
    "\n",
    "A Gaussian filter is a linear filter. The Gaussian filter alone will blur edges and reduce contrast. \n"
   ]
  },
  {
   "cell_type": "code",
   "execution_count": null,
   "metadata": {},
   "outputs": [],
   "source": [
    "img = cv.imread('files/cat.jpg')\n",
    "img = cv.resize(img, None, fx=0.3,fy=0.3 )\n",
    "\n",
    "blur = cv.GaussianBlur(img, (3, 3), 0)\n",
    "\n",
    "cv.imshow('blurred', blur)\n",
    "cv.imshow('org', img)\n",
    "cv.waitKey(0)\n",
    "cv.destroyAllWindows()"
   ]
  },
  {
   "cell_type": "markdown",
   "metadata": {},
   "source": [
    "* Median Blur\n",
    "\n",
    "The Median filter is a non-linear filter that is most commonly used as a simple way to reduce noise in an image."
   ]
  },
  {
   "cell_type": "code",
   "execution_count": null,
   "metadata": {},
   "outputs": [],
   "source": [
    "img = cv.imread('files/cat.jpg')\n",
    "img = cv.resize(img, None, fx=0.3,fy=0.3 )\n",
    "\n",
    "blur = cv.medianBlur(img, 3)\n",
    "\n",
    "cv.imshow('blurred', blur)\n",
    "cv.imshow('org', img)\n",
    "cv.waitKey(0)\n",
    "cv.destroyAllWindows()"
   ]
  },
  {
   "cell_type": "markdown",
   "metadata": {},
   "source": [
    "* Bilateral Filtering\n",
    "\n",
    "Bilateral Filter is a non-linear edge preserving and noise reducing smoothing filter for images. its slower than others."
   ]
  },
  {
   "cell_type": "code",
   "execution_count": null,
   "metadata": {},
   "outputs": [],
   "source": [
    "img = cv.imread('files/cat.jpg')\n",
    "img = cv.resize(img, None, fx=0.3,fy=0.3 )\n",
    "\n",
    "blur = cv.bilateralFilter(img, 3 , 100, 100)\n",
    "\n",
    "cv.imshow('blurred', blur)\n",
    "cv.imshow('org', img)\n",
    "cv.imshow('gau', cv.GaussianBlur(img, (3, 3), 0))\n",
    "cv.waitKey(0)\n",
    "cv.destroyAllWindows()"
   ]
  },
  {
   "cell_type": "markdown",
   "metadata": {},
   "source": [
    "# Feature Detection"
   ]
  },
  {
   "cell_type": "markdown",
   "metadata": {},
   "source": [
    "* Canny Edge Detector"
   ]
  },
  {
   "cell_type": "code",
   "execution_count": null,
   "metadata": {},
   "outputs": [],
   "source": [
    "img = cv.imread('files/dice.jpg')\n",
    "img = cv.resize(img, None, fx=0.3,fy=0.3)\n",
    "\n",
    "t1 = 50\n",
    "t2 = 100\n",
    "canny = cv.Canny(img, t1, t2)\n",
    "\n",
    "cv.imshow('blurred', canny)\n",
    "cv.imshow('org', img)\n",
    "\n",
    "cv.waitKey(0)\n",
    "cv.destroyAllWindows()"
   ]
  },
  {
   "cell_type": "markdown",
   "metadata": {},
   "source": [
    "# Video Analysis"
   ]
  },
  {
   "cell_type": "markdown",
   "metadata": {},
   "source": [
    "* Load a Video"
   ]
  },
  {
   "cell_type": "code",
   "execution_count": null,
   "metadata": {},
   "outputs": [],
   "source": [
    "cap = cv.VideoCapture(0) # or address a video file\n",
    "while cap.isOpened():\n",
    "    ret, frame = cap.read()\n",
    "    cv.imshow('vid', frame)\n",
    "    \n",
    "    if cv.waitKey(1) & 0xFF == ord('q'):\n",
    "        break\n",
    "        \n",
    "cap.release()\n",
    "cv.destroyAllWindows()"
   ]
  },
  {
   "cell_type": "markdown",
   "metadata": {},
   "source": [
    "* Save a video"
   ]
  },
  {
   "cell_type": "code",
   "execution_count": null,
   "metadata": {},
   "outputs": [],
   "source": [
    "cap = cv.VideoCapture(0)\n",
    "fourcc = cv.VideoWriter_fourcc(*'XVID')\n",
    "out = cv.VideoWriter('output.avi',fourcc, 20.0, (640,480))\n",
    "\n",
    "while(cap.isOpened()):\n",
    "    ret, frame = cap.read()\n",
    "    if ret==True:\n",
    "        frame = cv.flip(frame,0)\n",
    "\n",
    "        out.write(frame)\n",
    "\n",
    "        cv.imshow('frame',frame)\n",
    "        if cv.waitKey(1) & 0xFF == ord('q'):\n",
    "            break\n",
    "    else:\n",
    "        break\n",
    "\n",
    "cap.release()\n",
    "out.release()\n",
    "cv.destroyAllWindows()"
   ]
  },
  {
   "cell_type": "markdown",
   "metadata": {},
   "source": [
    "# Face Detector"
   ]
  },
  {
   "cell_type": "markdown",
   "metadata": {},
   "source": [
    "* image Face Detector"
   ]
  },
  {
   "cell_type": "code",
   "execution_count": null,
   "metadata": {},
   "outputs": [],
   "source": [
    "# https://github.com/opencv/opencv/tree/master/data/haarcascades\n",
    "face_cascade = cv.CascadeClassifier('haarcascade_frontalface_default.xml')\n",
    "\n",
    "pic = cv.imread('files/ronaldo.jpg')\n",
    "\n",
    "scale = 1.2\n",
    "face = face_cascade.detectMultiScale(pic, scale , 5)\n",
    "    \n",
    "for x,y,w,h in face:\n",
    "    cv.rectangle(pic, (x,y), (x + w, y + h), (255,0,0), 2)\n",
    "    cv.putText(pic, 'Ronaldo', (x,y), cv.FONT_HERSHEY_PLAIN, 2 , (255,0,255), 2)\n",
    "        \n",
    "print(\"number of faces = {}\".format(len(face)))\n",
    "\n",
    "cv.imshow('face', pic)\n",
    "cv.waitKey(0)\n",
    "cv.destroyAllWindows()"
   ]
  },
  {
   "cell_type": "markdown",
   "metadata": {},
   "source": [
    "* Real Time Face Detector"
   ]
  },
  {
   "cell_type": "code",
   "execution_count": null,
   "metadata": {},
   "outputs": [],
   "source": [
    "# https://github.com/opencv/opencv/tree/master/data/haarcascades\n",
    "face_cascade = cv.CascadeClassifier('haarcascade_frontalface_default.xml')\n",
    "\n",
    "cam = cv.VideoCapture(0)\n",
    "scale = 1.2\n",
    "\n",
    "while True:\n",
    "    ret, pic = cam.read()\n",
    "    \n",
    "    face = face_cascade.detectMultiScale(pic, scale , 5)\n",
    "    \n",
    "    for x,y,w,h in face:\n",
    "        cv.rectangle(pic, (x,y), (x + w, y + h), (255,0,0), 2)\n",
    "        cv.putText(pic, 'Me', (x,y), cv.FONT_HERSHEY_DUPLEX, 2 , (255,255,255), 2)\n",
    "        \n",
    "    print(\"number of faces = {}\".format(len(face)))\n",
    "    cv.imshow('face', pic)\n",
    "    k = cv.waitKey(30) & 0xFF\n",
    "    if k==2:\n",
    "        break\n",
    "        \n",
    "cv.destroyAllWindows()"
   ]
  },
  {
   "cell_type": "code",
   "execution_count": null,
   "metadata": {},
   "outputs": [],
   "source": []
  }
 ],
 "metadata": {
  "kernelspec": {
   "display_name": "Python 3",
   "language": "python",
   "name": "python3"
  },
  "language_info": {
   "codemirror_mode": {
    "name": "ipython",
    "version": 3
   },
   "file_extension": ".py",
   "mimetype": "text/x-python",
   "name": "python",
   "nbconvert_exporter": "python",
   "pygments_lexer": "ipython3",
   "version": "3.9.1"
  },
  "toc-autonumbering": true
 },
 "nbformat": 4,
 "nbformat_minor": 4
}
